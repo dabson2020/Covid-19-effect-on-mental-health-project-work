{
 "cells": [
  {
   "cell_type": "code",
   "execution_count": 14,
   "metadata": {},
   "outputs": [],
   "source": [
    "import pandas as pd"
   ]
  },
  {
   "cell_type": "code",
   "execution_count": 2,
   "metadata": {},
   "outputs": [],
   "source": [
    "import glob\n",
    "\n",
    "path = r'C:\\Users\\adeol\\Desktop\\COncordia University books\\Spring Semester\\New data\\full_dataset_clean.tsv\\xaw_data\\all_output.csv'\n",
    "all_files = glob.glob(path + \"/*.csv\")\n",
    "\n",
    "all_data = []\n",
    "\n",
    "for filename in all_files:\n",
    "    df = pd.read_csv(filename, index_col=None, header=0)\n",
    "    all_data.append(df)\n",
    "\n",
    "data = pd.concat(all_data, axis=0, ignore_index=True)"
   ]
  },
  {
   "cell_type": "code",
   "execution_count": 3,
   "metadata": {},
   "outputs": [],
   "source": [
    "def remove_url(row):\n",
    "    txt = str(row['twitter_data']).split('https')[0]\n",
    "    return txt"
   ]
  },
  {
   "cell_type": "code",
   "execution_count": 4,
   "metadata": {},
   "outputs": [],
   "source": [
    "data['twitter_data'] = data.apply(remove_url, axis = 1)"
   ]
  },
  {
   "cell_type": "code",
   "execution_count": 5,
   "metadata": {},
   "outputs": [],
   "source": [
    "data.twitter_data = data.twitter_data.str.replace(':', \"\\t\")"
   ]
  },
  {
   "cell_type": "code",
   "execution_count": 6,
   "metadata": {},
   "outputs": [],
   "source": [
    "data.twitter_data = data.twitter_data.str.replace('\"', \"\")"
   ]
  },
  {
   "cell_type": "code",
   "execution_count": 7,
   "metadata": {},
   "outputs": [],
   "source": [
    "data.twitter_data = data.twitter_data.str.split(\"\\t\")"
   ]
  },
  {
   "cell_type": "code",
   "execution_count": 8,
   "metadata": {},
   "outputs": [],
   "source": [
    "new_data = pd.DataFrame(data['twitter_data'].tolist(),index = data.index)"
   ]
  },
  {
   "cell_type": "code",
   "execution_count": 9,
   "metadata": {},
   "outputs": [],
   "source": [
    "new_data = new_data.iloc[::,0:5]"
   ]
  },
  {
   "cell_type": "code",
   "execution_count": 10,
   "metadata": {},
   "outputs": [
    {
     "data": {
      "text/html": [
       "<div>\n",
       "<style scoped>\n",
       "    .dataframe tbody tr th:only-of-type {\n",
       "        vertical-align: middle;\n",
       "    }\n",
       "\n",
       "    .dataframe tbody tr th {\n",
       "        vertical-align: top;\n",
       "    }\n",
       "\n",
       "    .dataframe thead th {\n",
       "        text-align: right;\n",
       "    }\n",
       "</style>\n",
       "<table border=\"1\" class=\"dataframe\">\n",
       "  <thead>\n",
       "    <tr style=\"text-align: right;\">\n",
       "      <th></th>\n",
       "      <th>0</th>\n",
       "      <th>1</th>\n",
       "      <th>2</th>\n",
       "      <th>3</th>\n",
       "      <th>4</th>\n",
       "    </tr>\n",
       "  </thead>\n",
       "  <tbody>\n",
       "    <tr>\n",
       "      <td>0</td>\n",
       "      <td>Fri Feb 05 10</td>\n",
       "      <td>16</td>\n",
       "      <td>46 +0000 2021</td>\n",
       "      <td>1357634263609393154</td>\n",
       "      <td>@welt Dazu mal einfach Fragen</td>\n",
       "    </tr>\n",
       "    <tr>\n",
       "      <td>1</td>\n",
       "      <td>Fri Feb 05 10</td>\n",
       "      <td>16</td>\n",
       "      <td>47 +0000 2021</td>\n",
       "      <td>1357634265157107712</td>\n",
       "      <td>@natalikor701 @Andrioswp \\u043f\\u0440\\u0438 \\...</td>\n",
       "    </tr>\n",
       "    <tr>\n",
       "      <td>2</td>\n",
       "      <td>Fri Feb 05 10</td>\n",
       "      <td>16</td>\n",
       "      <td>47 +0000 2021</td>\n",
       "      <td>1357634265719128064</td>\n",
       "      <td>@Helkoybut \\ud83d\\ude0f\\ud83d\\ude23</td>\n",
       "    </tr>\n",
       "    <tr>\n",
       "      <td>3</td>\n",
       "      <td>Fri Feb 05 10</td>\n",
       "      <td>16</td>\n",
       "      <td>47 +0000 2021</td>\n",
       "      <td>1357634267078131712</td>\n",
       "      <td>#WuhanVirusPandemic\\n#GlobalVaccinesWoes \\nIn...</td>\n",
       "    </tr>\n",
       "    <tr>\n",
       "      <td>4</td>\n",
       "      <td>Fri Feb 05 10</td>\n",
       "      <td>16</td>\n",
       "      <td>47 +0000 2021</td>\n",
       "      <td>1357634267392561156</td>\n",
       "      <td>\\u7dba\\u9e97\\u306b\\u4e0b\\u304c\\u308b\\u304f\\u3...</td>\n",
       "    </tr>\n",
       "  </tbody>\n",
       "</table>\n",
       "</div>"
      ],
      "text/plain": [
       "                0   1                2                       3  \\\n",
       "0   Fri Feb 05 10  16  46 +0000 2021     1357634263609393154     \n",
       "1   Fri Feb 05 10  16  47 +0000 2021     1357634265157107712     \n",
       "2   Fri Feb 05 10  16  47 +0000 2021     1357634265719128064     \n",
       "3   Fri Feb 05 10  16  47 +0000 2021     1357634267078131712     \n",
       "4   Fri Feb 05 10  16  47 +0000 2021     1357634267392561156     \n",
       "\n",
       "                                                   4  \n",
       "0                      @welt Dazu mal einfach Fragen  \n",
       "1   @natalikor701 @Andrioswp \\u043f\\u0440\\u0438 \\...  \n",
       "2               @Helkoybut \\ud83d\\ude0f\\ud83d\\ude23   \n",
       "3   #WuhanVirusPandemic\\n#GlobalVaccinesWoes \\nIn...  \n",
       "4   \\u7dba\\u9e97\\u306b\\u4e0b\\u304c\\u308b\\u304f\\u3...  "
      ]
     },
     "execution_count": 10,
     "metadata": {},
     "output_type": "execute_result"
    }
   ],
   "source": [
    "new_data.head()"
   ]
  },
  {
   "cell_type": "code",
   "execution_count": 11,
   "metadata": {},
   "outputs": [],
   "source": [
    "new_data.columns = [['Date','NA1','NA2','id','text']]"
   ]
  },
  {
   "cell_type": "code",
   "execution_count": 12,
   "metadata": {},
   "outputs": [],
   "source": [
    "new_data.drop(['NA1','NA2'], inplace =True, axis = 1)"
   ]
  },
  {
   "cell_type": "code",
   "execution_count": 13,
   "metadata": {},
   "outputs": [
    {
     "data": {
      "text/html": [
       "<div>\n",
       "<style scoped>\n",
       "    .dataframe tbody tr th:only-of-type {\n",
       "        vertical-align: middle;\n",
       "    }\n",
       "\n",
       "    .dataframe tbody tr th {\n",
       "        vertical-align: top;\n",
       "    }\n",
       "\n",
       "    .dataframe thead tr th {\n",
       "        text-align: left;\n",
       "    }\n",
       "</style>\n",
       "<table border=\"1\" class=\"dataframe\">\n",
       "  <thead>\n",
       "    <tr>\n",
       "      <th></th>\n",
       "      <th>Date</th>\n",
       "      <th>id</th>\n",
       "      <th>text</th>\n",
       "    </tr>\n",
       "  </thead>\n",
       "  <tbody>\n",
       "    <tr>\n",
       "      <td>0</td>\n",
       "      <td>Fri Feb 05 10</td>\n",
       "      <td>1357634263609393154</td>\n",
       "      <td>@welt Dazu mal einfach Fragen</td>\n",
       "    </tr>\n",
       "    <tr>\n",
       "      <td>1</td>\n",
       "      <td>Fri Feb 05 10</td>\n",
       "      <td>1357634265157107712</td>\n",
       "      <td>@natalikor701 @Andrioswp \\u043f\\u0440\\u0438 \\...</td>\n",
       "    </tr>\n",
       "    <tr>\n",
       "      <td>2</td>\n",
       "      <td>Fri Feb 05 10</td>\n",
       "      <td>1357634265719128064</td>\n",
       "      <td>@Helkoybut \\ud83d\\ude0f\\ud83d\\ude23</td>\n",
       "    </tr>\n",
       "    <tr>\n",
       "      <td>3</td>\n",
       "      <td>Fri Feb 05 10</td>\n",
       "      <td>1357634267078131712</td>\n",
       "      <td>#WuhanVirusPandemic\\n#GlobalVaccinesWoes \\nIn...</td>\n",
       "    </tr>\n",
       "    <tr>\n",
       "      <td>4</td>\n",
       "      <td>Fri Feb 05 10</td>\n",
       "      <td>1357634267392561156</td>\n",
       "      <td>\\u7dba\\u9e97\\u306b\\u4e0b\\u304c\\u308b\\u304f\\u3...</td>\n",
       "    </tr>\n",
       "  </tbody>\n",
       "</table>\n",
       "</div>"
      ],
      "text/plain": [
       "             Date                      id  \\\n",
       "0   Fri Feb 05 10   1357634263609393154     \n",
       "1   Fri Feb 05 10   1357634265157107712     \n",
       "2   Fri Feb 05 10   1357634265719128064     \n",
       "3   Fri Feb 05 10   1357634267078131712     \n",
       "4   Fri Feb 05 10   1357634267392561156     \n",
       "\n",
       "                                                text  \n",
       "0                      @welt Dazu mal einfach Fragen  \n",
       "1   @natalikor701 @Andrioswp \\u043f\\u0440\\u0438 \\...  \n",
       "2               @Helkoybut \\ud83d\\ude0f\\ud83d\\ude23   \n",
       "3   #WuhanVirusPandemic\\n#GlobalVaccinesWoes \\nIn...  \n",
       "4   \\u7dba\\u9e97\\u306b\\u4e0b\\u304c\\u308b\\u304f\\u3...  "
      ]
     },
     "execution_count": 13,
     "metadata": {},
     "output_type": "execute_result"
    }
   ],
   "source": [
    "new_data.head()"
   ]
  },
  {
   "cell_type": "code",
   "execution_count": 15,
   "metadata": {},
   "outputs": [],
   "source": [
    "new_data.to_csv('apr_output_new.csv',index = False, index_label=False)"
   ]
  },
  {
   "cell_type": "code",
   "execution_count": null,
   "metadata": {},
   "outputs": [],
   "source": []
  }
 ],
 "metadata": {
  "kernelspec": {
   "display_name": "Python 3",
   "language": "python",
   "name": "python3"
  },
  "language_info": {
   "codemirror_mode": {
    "name": "ipython",
    "version": 3
   },
   "file_extension": ".py",
   "mimetype": "text/x-python",
   "name": "python",
   "nbconvert_exporter": "python",
   "pygments_lexer": "ipython3",
   "version": "3.7.4"
  }
 },
 "nbformat": 4,
 "nbformat_minor": 2
}
